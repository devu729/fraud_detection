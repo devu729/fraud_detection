{
 "cells": [
  {
   "cell_type": "code",
   "execution_count": 1,
   "id": "8269656f-10a7-42bf-ac76-3a1ead79aec7",
   "metadata": {},
   "outputs": [],
   "source": [
    "import pandas as pd"
   ]
  },
  {
   "cell_type": "code",
   "execution_count": 2,
   "id": "ad33a7ba-1ea1-4ed9-ba28-c20624818898",
   "metadata": {},
   "outputs": [],
   "source": [
    "data = {\n",
    "    \"transaction_id\": [1,2,3],\n",
    "    \"user_id\": [\"u1\", \"u2\", \"u1\"],\n",
    "    \"transaction_time\": [\"2025-09-16 14:32:10\", \"2025-09-16 02:45:35\", \"2025-09-17 09:12:22\"],\n",
    "    \"amount\": [100.5, 500.0, 250.75]\n",
    "}\n",
    "\n",
    "df = pd.DataFrame(data)\n",
    "df[\"transaction_time\"] = pd.to_datetime(df[\"transaction_time\"])"
   ]
  },
  {
   "cell_type": "code",
   "execution_count": 5,
   "id": "4ca67545-0742-4779-94f6-acde526d9b04",
   "metadata": {},
   "outputs": [],
   "source": [
    "df[\"transaction_hour\"] = df[\"transaction_time\"].dt.hour\n",
    "df[\"transaction_dayofweek\"] = df[\"transaction_time\"].dt.dayofweek\n",
    "df[\"is_weekend\"] = df[\"transaction_dayofweek\"].isin([5,6]).astype(int)\n",
    "df[\"is_business_hour\"] = df[\"transaction_hour\"].between(9,18).astype(int)\n",
    "df[\"delta_time_user\"] = df.groupby(\"user_id\")[\"transaction_time\"].diff().dt.total_seconds()"
   ]
  },
  {
   "cell_type": "code",
   "execution_count": 6,
   "id": "7fd65165-8bd7-43fb-87c3-a1e3af0ad2e3",
   "metadata": {},
   "outputs": [
    {
     "data": {
      "text/html": [
       "<div>\n",
       "<style scoped>\n",
       "    .dataframe tbody tr th:only-of-type {\n",
       "        vertical-align: middle;\n",
       "    }\n",
       "\n",
       "    .dataframe tbody tr th {\n",
       "        vertical-align: top;\n",
       "    }\n",
       "\n",
       "    .dataframe thead th {\n",
       "        text-align: right;\n",
       "    }\n",
       "</style>\n",
       "<table border=\"1\" class=\"dataframe\">\n",
       "  <thead>\n",
       "    <tr style=\"text-align: right;\">\n",
       "      <th></th>\n",
       "      <th>transaction_id</th>\n",
       "      <th>user_id</th>\n",
       "      <th>transaction_time</th>\n",
       "      <th>amount</th>\n",
       "      <th>transaction_hour</th>\n",
       "      <th>transaction_dayofweek</th>\n",
       "      <th>is_weekend</th>\n",
       "      <th>is_business_hour</th>\n",
       "      <th>delta_time_user</th>\n",
       "    </tr>\n",
       "  </thead>\n",
       "  <tbody>\n",
       "    <tr>\n",
       "      <th>0</th>\n",
       "      <td>1</td>\n",
       "      <td>u1</td>\n",
       "      <td>2025-09-16 14:32:10</td>\n",
       "      <td>100.50</td>\n",
       "      <td>14</td>\n",
       "      <td>1</td>\n",
       "      <td>0</td>\n",
       "      <td>1</td>\n",
       "      <td>NaN</td>\n",
       "    </tr>\n",
       "    <tr>\n",
       "      <th>1</th>\n",
       "      <td>2</td>\n",
       "      <td>u2</td>\n",
       "      <td>2025-09-16 02:45:35</td>\n",
       "      <td>500.00</td>\n",
       "      <td>2</td>\n",
       "      <td>1</td>\n",
       "      <td>0</td>\n",
       "      <td>0</td>\n",
       "      <td>NaN</td>\n",
       "    </tr>\n",
       "    <tr>\n",
       "      <th>2</th>\n",
       "      <td>3</td>\n",
       "      <td>u1</td>\n",
       "      <td>2025-09-17 09:12:22</td>\n",
       "      <td>250.75</td>\n",
       "      <td>9</td>\n",
       "      <td>2</td>\n",
       "      <td>0</td>\n",
       "      <td>1</td>\n",
       "      <td>67212.0</td>\n",
       "    </tr>\n",
       "  </tbody>\n",
       "</table>\n",
       "</div>"
      ],
      "text/plain": [
       "   transaction_id user_id    transaction_time  amount  transaction_hour  \\\n",
       "0               1      u1 2025-09-16 14:32:10  100.50                14   \n",
       "1               2      u2 2025-09-16 02:45:35  500.00                 2   \n",
       "2               3      u1 2025-09-17 09:12:22  250.75                 9   \n",
       "\n",
       "   transaction_dayofweek  is_weekend  is_business_hour  delta_time_user  \n",
       "0                      1           0                 1              NaN  \n",
       "1                      1           0                 0              NaN  \n",
       "2                      2           0                 1          67212.0  "
      ]
     },
     "execution_count": 6,
     "metadata": {},
     "output_type": "execute_result"
    }
   ],
   "source": [
    "df"
   ]
  },
  {
   "cell_type": "code",
   "execution_count": null,
   "id": "0e2b0fc7-1f29-4fcd-a6e7-a614a8bb601a",
   "metadata": {},
   "outputs": [],
   "source": [
    "df.columns()"
   ]
  }
 ],
 "metadata": {
  "kernelspec": {
   "display_name": "Python 3 (ipykernel)",
   "language": "python",
   "name": "python3"
  },
  "language_info": {
   "codemirror_mode": {
    "name": "ipython",
    "version": 3
   },
   "file_extension": ".py",
   "mimetype": "text/x-python",
   "name": "python",
   "nbconvert_exporter": "python",
   "pygments_lexer": "ipython3",
   "version": "3.12.7"
  }
 },
 "nbformat": 4,
 "nbformat_minor": 5
}
