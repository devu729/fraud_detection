{
 "cells": [
  {
   "cell_type": "code",
   "execution_count": 3,
   "id": "b7912e24-8da3-4a5f-99a6-e70d05c80eb1",
   "metadata": {},
   "outputs": [],
   "source": [
    "import pandas as pd\n",
    "from sklearn.linear_model import LogisticRegression\n",
    "from sklearn.metrics import classification_report\n",
    "from sklearn.model_selection import train_test_split\n",
    "\n",
    "df = pd.read_csv('data/creditcard.csv')\n",
    "X = df.drop('Class', axis=1)\n",
    "y = df['Class']\n",
    "X_train, X_test, y_train, y_test = train_test_split(X, y, test_size=0.2, random_state=42, stratify=y)"
   ]
  },
  {
   "cell_type": "code",
   "execution_count": 5,
   "id": "9a894101-15c9-43dd-b3d7-eced50594269",
   "metadata": {},
   "outputs": [
    {
     "name": "stdout",
     "output_type": "stream",
     "text": [
      "LR metrics               precision    recall  f1-score   support\n",
      "\n",
      "           0       1.00      1.00      1.00     56864\n",
      "           1       0.85      0.69      0.76        98\n",
      "\n",
      "    accuracy                           1.00     56962\n",
      "   macro avg       0.92      0.85      0.88     56962\n",
      "weighted avg       1.00      1.00      1.00     56962\n",
      "\n"
     ]
    },
    {
     "name": "stderr",
     "output_type": "stream",
     "text": [
      "C:\\Users\\devu anil\\anaconda3\\Lib\\site-packages\\sklearn\\linear_model\\_logistic.py:473: ConvergenceWarning: lbfgs failed to converge after 1000 iteration(s) (status=1):\n",
      "STOP: TOTAL NO. of ITERATIONS REACHED LIMIT\n",
      "\n",
      "Increase the number of iterations to improve the convergence (max_iter=1000).\n",
      "You might also want to scale the data as shown in:\n",
      "    https://scikit-learn.org/stable/modules/preprocessing.html\n",
      "Please also refer to the documentation for alternative solver options:\n",
      "    https://scikit-learn.org/stable/modules/linear_model.html#logistic-regression\n",
      "  n_iter_i = _check_optimize_result(\n"
     ]
    }
   ],
   "source": [
    "clf_lr = LogisticRegression(max_iter=1000, random_state=42)\n",
    "clf_lr.fit(X_train, y_train)\n",
    "clf_lr_pr = clf_lr.predict(X_test)\n",
    "print(f\"LR metrics {classification_report(y_test,clf_lr_pr)}\")"
   ]
  },
  {
   "cell_type": "code",
   "execution_count": null,
   "id": "e8303634-5b42-433e-aabb-c1b7137cc2d9",
   "metadata": {},
   "outputs": [],
   "source": [
    "from sklearn.ensemble import RandomForestClassifier\n",
    "clf_rfc = RandomForestClassifier(n_estimators=100, random_state=42)\n",
    "clf_rfc.fit(X_train, y_train)\n",
    "clf_rfc_pr = clf_lr.predict(X_test)\n",
    "print(f\"LR metrics {classification_report(y_test,clf_rfc_pr)}\")"
   ]
  },
  {
   "cell_type": "code",
   "execution_count": null,
   "id": "0feb4b79-f1f2-4a49-b90f-c5dd4d363258",
   "metadata": {},
   "outputs": [],
   "source": [
    "from sklearn.ensemble import RandomForestClassifier\n",
    "clf_rfc = RandomForestClassifier(n_estimators=10, random_state=42)\n",
    "clf_rfc.fit(X_train, y_train)\n",
    "clf_rfc_pr = clf_lr.predict(X_test)\n",
    "print(f\"LR metrics {classification_report(y_test,clf_rfc_pr)}\")"
   ]
  },
  {
   "cell_type": "code",
   "execution_count": null,
   "id": "7d9f1a88-cddd-44ff-954b-06ad0dbe697d",
   "metadata": {},
   "outputs": [],
   "source": [
    "import xgboost as xgb\n",
    "clf_xg = xgb.XGBClassifier(use_label_encoder=False, eval_metric=\"logloss\", random_state=42)\n",
    "clf_xg.fit(X_train, y_train)\n",
    "clf_xg_pr = clf_lr.predict(X_test)\n",
    "print(f\"LR metrics {classification_report(y_test,clf_xg_pr)}\")"
   ]
  },
  {
   "cell_type": "code",
   "execution_count": null,
   "id": "ded42ce2-91fb-4d89-b568-e81b4e9d285f",
   "metadata": {},
   "outputs": [],
   "source": []
  }
 ],
 "metadata": {
  "kernelspec": {
   "display_name": "Python 3 (ipykernel)",
   "language": "python",
   "name": "python3"
  },
  "language_info": {
   "codemirror_mode": {
    "name": "ipython",
    "version": 3
   },
   "file_extension": ".py",
   "mimetype": "text/x-python",
   "name": "python",
   "nbconvert_exporter": "python",
   "pygments_lexer": "ipython3",
   "version": "3.12.7"
  }
 },
 "nbformat": 4,
 "nbformat_minor": 5
}
